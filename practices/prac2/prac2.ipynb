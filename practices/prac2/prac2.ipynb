{
  "nbformat": 4,
  "nbformat_minor": 0,
  "metadata": {
    "colab": {
      "provenance": []
    },
    "kernelspec": {
      "name": "python3",
      "display_name": "Python 3"
    },
    "language_info": {
      "name": "python"
    }
  },
  "cells": [
    {
      "cell_type": "markdown",
      "source": [
        "## Динамическое программирование"
      ],
      "metadata": {
        "id": "2aA14kYCYSwo"
      }
    },
    {
      "cell_type": "markdown",
      "source": [
        "Рассмотрим алгоритм итерации по оценкам состояния $V$ (Value Iteration):\n",
        "$$\n",
        "V_{(i+1)}(s) = \\max_a \\sum_{s'} P(s' | s,a) \\cdot [ r(s,a,s') + \\gamma V_{i}(s')]\n",
        "$$\n",
        "На основе оценки $V_i$ можно посчитать функцию оценки $Q_i$ действия $a$ в состоянии $s$:\n",
        "$$\n",
        "Q_i(s, a) = \\sum_{s'} P(s' | s,a) \\cdot [ r(s,a,s') + \\gamma V_{i}(s')]\n",
        "$$\n",
        "$$\n",
        "V_{(i+1)}(s) = \\max_a Q_i(s,a)\n",
        "$$\n",
        "\n",
        "Зададим напрямую модель MDP с картинки:\n",
        "<img src=\"https://raw.githubusercontent.com/Tviskaron/mipt/master/2019/RL/02/mdp.png\" caption=\"Марковский процесс принятия решений\" style=\"width: 400px;\">"
      ],
      "metadata": {
        "id": "roQ4hAstjVce"
      }
    },
    {
      "cell_type": "code",
      "source": [
        "try:\n",
        "    import google.colab\n",
        "    COLAB = True\n",
        "except ModuleNotFoundError:\n",
        "    COLAB = False\n",
        "    pass\n",
        "\n",
        "if COLAB:\n",
        "    !wget https://raw.githubusercontent.com/Tviskaron/mipt/master/2019/RL/02/mdp.py"
      ],
      "metadata": {
        "id": "l6LwgNvgYXIP",
        "outputId": "2a83cfd4-5cf4-4ad8-813d-602fdde9a887",
        "colab": {
          "base_uri": "https://localhost:8080/"
        }
      },
      "execution_count": 26,
      "outputs": [
        {
          "output_type": "stream",
          "name": "stdout",
          "text": [
            "--2025-10-30 21:50:40--  https://raw.githubusercontent.com/Tviskaron/mipt/master/2019/RL/02/mdp.py\n",
            "Resolving raw.githubusercontent.com (raw.githubusercontent.com)... 185.199.110.133, 185.199.109.133, 185.199.108.133, ...\n",
            "Connecting to raw.githubusercontent.com (raw.githubusercontent.com)|185.199.110.133|:443... connected.\n",
            "HTTP request sent, awaiting response... 200 OK\n",
            "Length: 10969 (11K) [text/plain]\n",
            "Saving to: ‘mdp.py.1’\n",
            "\n",
            "\rmdp.py.1              0%[                    ]       0  --.-KB/s               \rmdp.py.1            100%[===================>]  10.71K  --.-KB/s    in 0s      \n",
            "\n",
            "2025-10-30 21:50:40 (50.0 MB/s) - ‘mdp.py.1’ saved [10969/10969]\n",
            "\n"
          ]
        }
      ]
    },
    {
      "cell_type": "code",
      "source": [
        "transition_probs = {\n",
        "  's0':{\n",
        "    'a0': {'s0': 0.5, 's2': 0.5},\n",
        "    'a1': {'s2': 1}\n",
        "  },\n",
        "  's1':{\n",
        "    'a0': {'s0': 0.7, 's1': 0.1, 's2': 0.2},\n",
        "    'a1': {'s1': 0.95, 's2': 0.05}\n",
        "  },\n",
        "  's2':{\n",
        "    'a0': {'s0': 0.4, 's2': 0.6},\n",
        "    'a1': {'s0': 0.3, 's1': 0.3, 's2':0.4}\n",
        "  }\n",
        "}\n",
        "rewards = {\n",
        "  's1': {'a0': {'s0': +5}},\n",
        "  's2': {'a1': {'s0': -1}}\n",
        "}\n",
        "\n",
        "from mdp import MDP\n",
        "import numpy as np\n",
        "mdp = MDP(transition_probs, rewards, initial_state='s0')"
      ],
      "metadata": {
        "id": "OpKyGJEJYYDn"
      },
      "execution_count": 27,
      "outputs": []
    },
    {
      "cell_type": "markdown",
      "source": [
        "Теперь мы можем использовать это MDP, как и любое другое gym окружение:"
      ],
      "metadata": {
        "id": "IVSC6KXuYcsh"
      }
    },
    {
      "cell_type": "code",
      "source": [
        "state = mdp.reset()\n",
        "print('initial state =', state)\n",
        "next_state, reward, done, info = mdp.step('a1')\n",
        "print(f'next_state ={next_state}, reward = {reward}, done = {done}')"
      ],
      "metadata": {
        "id": "PzLyFJ4iYfro",
        "outputId": "9788e12e-4ec7-4990-9f90-4f2801813230",
        "colab": {
          "base_uri": "https://localhost:8080/"
        }
      },
      "execution_count": 28,
      "outputs": [
        {
          "output_type": "stream",
          "name": "stdout",
          "text": [
            "initial state = s0\n",
            "next_state =s2, reward = 0.0, done = False\n"
          ]
        }
      ]
    },
    {
      "cell_type": "markdown",
      "source": [
        ":Также, помимо стандартных методов, есть дополнительные, которые пригодятся нам для реализации метода итерации по полезностям."
      ],
      "metadata": {
        "id": "UgRdVPJlYjZ4"
      }
    },
    {
      "cell_type": "code",
      "source": [
        "print(\"all_states =\", mdp.get_all_states())\n",
        "print(\"possible_actions('s1') = \", mdp.get_possible_actions('s1'))\n",
        "print(\"next_states('s1', 'a0') = \", mdp.get_next_states('s1', 'a0'))\n",
        "print(\"reward('s1', 'a0', 's0') = \",mdp.get_reward('s1', 'a0', 's0'))\n",
        "print(\"transition_prob('s1', 'a0', 's0') = \",\n",
        "      mdp.get_transition_prob('s1', 'a0', 's0'))"
      ],
      "metadata": {
        "id": "4zK1xXedYn21",
        "outputId": "b8d08d63-c554-40e1-bf80-c2349f332d67",
        "colab": {
          "base_uri": "https://localhost:8080/"
        }
      },
      "execution_count": 29,
      "outputs": [
        {
          "output_type": "stream",
          "name": "stdout",
          "text": [
            "all_states = ('s0', 's1', 's2')\n",
            "possible_actions('s1') =  ('a0', 'a1')\n",
            "next_states('s1', 'a0') =  {'s0': 0.7, 's1': 0.1, 's2': 0.2}\n",
            "reward('s1', 'a0', 's0') =  5\n",
            "transition_prob('s1', 'a0', 's0') =  0.7\n"
          ]
        }
      ]
    },
    {
      "cell_type": "markdown",
      "source": [
        "### Задание 1\n",
        "\n",
        "Теперь реализуем алгоритм итерации по полезностям, чтобы решить этот вручную заданный MDP. Псевдокод алгоритма:\n",
        "\n",
        "---\n",
        "\n",
        "`1.` Инициализируем $V^{(0)}(s)=0$, для всех $s$\n",
        "\n",
        "`2.` For $i=0, 1, 2, \\dots$\n",
        "\n",
        "`3.` $ \\quad V_{(i+1)}(s) = \\max_a \\sum_{s'} P(s' | s,a) \\cdot [ r(s,a,s') + \\gamma V_{i}(s')]$, для всех $s$\n",
        "\n",
        "---\n",
        "\n",
        "Вначале вычисляем оценку состояния-действия:\n",
        "$$Q_i(s, a) = \\sum_{s'} P(s' | s,a) \\cdot [ r(s,a,s') + \\gamma V_{i}(s')]$$"
      ],
      "metadata": {
        "id": "6Oe_RzZtYq11"
      }
    },
    {
      "cell_type": "markdown",
      "source": [
        "### 1 балл"
      ],
      "metadata": {
        "id": "1aA0DQccjody"
      }
    },
    {
      "cell_type": "code",
      "source": [
        "def get_action_value(\n",
        "    mdp, state_values, state, action, gamma\n",
        "):\n",
        "    \"\"\" Вычисляем Q(s,a) по формуле выше \"\"\"\n",
        "    Q = 0\n",
        "    for next_state in mdp.get_next_states(state, action):\n",
        "        prob = mdp.get_transition_prob(state, action, next_state)\n",
        "        reward = mdp.get_reward(state, action, next_state)\n",
        "        Q += prob * (reward + gamma * state_values[next_state])\n",
        "    return Q"
      ],
      "metadata": {
        "id": "Qt0o0MokYv0F"
      },
      "execution_count": 32,
      "outputs": []
    },
    {
      "cell_type": "code",
      "source": [
        "test_Vs = {s: i for i, s in enumerate(sorted(mdp.get_all_states()))}\n",
        "assert np.isclose(get_action_value(mdp, test_Vs, 's2', 'a1', 0.9), 0.69)\n",
        "assert np.isclose(get_action_value(mdp, test_Vs, 's1', 'a0', 0.9), 3.95)"
      ],
      "metadata": {
        "id": "x06WscSIYysp"
      },
      "execution_count": 33,
      "outputs": []
    },
    {
      "cell_type": "markdown",
      "source": [
        "Теперь оцениваем полезность самого состояния, для этого мы можем использовать предыдущий метод:\n",
        "\n",
        "$$V_{(i+1)}(s) = \\max_a \\sum_{s'} P(s' | s,a) \\cdot [ r(s,a,s') + \\gamma V_{i}(s')] = \\max_a Q_i(s,a)$$"
      ],
      "metadata": {
        "id": "87q6GhsMY19h"
      }
    },
    {
      "cell_type": "markdown",
      "source": [
        "### 1 балл"
      ],
      "metadata": {
        "id": "2O3QFuoVj1iZ"
      }
    },
    {
      "cell_type": "code",
      "source": [
        "def get_new_state_value(mdp, state_values, state, gamma):\n",
        "    \"\"\" Считаем следующее V(s) по формуле выше.\"\"\"\n",
        "    if mdp.is_terminal(state):\n",
        "        return 0\n",
        "    V = max([get_action_value(mdp, state_values, state, action, gamma)\n",
        "             for action in mdp.get_possible_actions(state)])\n",
        "    return V"
      ],
      "metadata": {
        "id": "hFqCuRaBY5J_"
      },
      "execution_count": 34,
      "outputs": []
    },
    {
      "cell_type": "code",
      "source": [
        "test_Vs_copy = dict(test_Vs)\n",
        "assert np.isclose(get_new_state_value(mdp, test_Vs, 's0', 0.9), 1.8)\n",
        "assert np.isclose(get_new_state_value(mdp, test_Vs, 's2', 0.9), 1.08)\n",
        "assert np.isclose(get_new_state_value(mdp, {'s0': -1e10, 's1': 0, 's2': -2e10}, 's0', 0.9), -13500000000.0), \\\n",
        "   \"Убедитесь, что вы правильно обрабатываете отрицательные значения Q произвольной величины.\"\n",
        "assert test_Vs == test_Vs_copy, \"Убедитесь, что вы не изменяете state_values в функции get_new_state_value\""
      ],
      "metadata": {
        "id": "lPUyRzQOY8PP"
      },
      "execution_count": 35,
      "outputs": []
    },
    {
      "cell_type": "markdown",
      "source": [
        "Теперь создаем основной цикл итерационного оценки полезности состояний с критерием остановки, который проверяет насколько изменились полезности."
      ],
      "metadata": {
        "id": "Od-SBiPKY_Q3"
      }
    },
    {
      "cell_type": "markdown",
      "source": [
        "### 1 балл"
      ],
      "metadata": {
        "id": "q-0-PlvmkF7P"
      }
    },
    {
      "cell_type": "code",
      "source": [
        "def value_iteration(\n",
        "    mdp, state_values=None,\n",
        "    gamma = 0.9, num_iter = 1000, min_difference = 1e-5):\n",
        "    \"\"\" выполняет num_iter шагов итерации по значениям\"\"\"\n",
        "    # инициализируем V(s)\n",
        "    state_values = state_values or \\\n",
        "    {s : 0 for s in mdp.get_all_states()}\n",
        "    for i in range(num_iter):\n",
        "        # Вычисляем новые полезности состояний,\n",
        "        # используя функции, определенные выше.\n",
        "        # Должен получиться словарь {s: new_V(s)}\n",
        "        new_state_values = {s: get_new_state_value(mdp, state_values, s, gamma)\n",
        "                            for s in mdp.get_all_states()}\n",
        "        assert isinstance(new_state_values, dict)\n",
        "\n",
        "        diff = max(\n",
        "            abs(new_state_values[s] - state_values[s])\n",
        "            for s in mdp.get_all_states()\n",
        "        )\n",
        "        print(\n",
        "            f\"iter {i:4} | diff: {diff:6.5f} \"\n",
        "            f\"| V(start): {new_state_values[mdp._initial_state]:.3f} \"\n",
        "        )\n",
        "        state_values = new_state_values\n",
        "        if diff < min_difference:\n",
        "            print(\"Принято! Алгоритм сходится!\")\n",
        "            break\n",
        "    return state_values\n",
        "state_values = value_iteration(\n",
        "    mdp, num_iter = 100, min_difference = 0.001\n",
        ")"
      ],
      "metadata": {
        "id": "uUwb5JCDZDD4",
        "outputId": "5d0bfb4c-b5c3-445b-f0f3-fd62fc47a0ae",
        "colab": {
          "base_uri": "https://localhost:8080/"
        }
      },
      "execution_count": 36,
      "outputs": [
        {
          "output_type": "stream",
          "name": "stdout",
          "text": [
            "iter    0 | diff: 3.50000 | V(start): 0.000 \n",
            "iter    1 | diff: 0.64500 | V(start): 0.000 \n",
            "iter    2 | diff: 0.58050 | V(start): 0.581 \n",
            "iter    3 | diff: 0.43582 | V(start): 0.866 \n",
            "iter    4 | diff: 0.30634 | V(start): 1.145 \n",
            "iter    5 | diff: 0.27571 | V(start): 1.421 \n",
            "iter    6 | diff: 0.24347 | V(start): 1.655 \n",
            "iter    7 | diff: 0.21419 | V(start): 1.868 \n",
            "iter    8 | diff: 0.19277 | V(start): 2.061 \n",
            "iter    9 | diff: 0.17327 | V(start): 2.233 \n",
            "iter   10 | diff: 0.15569 | V(start): 2.389 \n",
            "iter   11 | diff: 0.14012 | V(start): 2.529 \n",
            "iter   12 | diff: 0.12610 | V(start): 2.655 \n",
            "iter   13 | diff: 0.11348 | V(start): 2.769 \n",
            "iter   14 | diff: 0.10213 | V(start): 2.871 \n",
            "iter   15 | diff: 0.09192 | V(start): 2.963 \n",
            "iter   16 | diff: 0.08272 | V(start): 3.045 \n",
            "iter   17 | diff: 0.07445 | V(start): 3.120 \n",
            "iter   18 | diff: 0.06701 | V(start): 3.187 \n",
            "iter   19 | diff: 0.06031 | V(start): 3.247 \n",
            "iter   20 | diff: 0.05428 | V(start): 3.301 \n",
            "iter   21 | diff: 0.04885 | V(start): 3.350 \n",
            "iter   22 | diff: 0.04396 | V(start): 3.394 \n",
            "iter   23 | diff: 0.03957 | V(start): 3.434 \n",
            "iter   24 | diff: 0.03561 | V(start): 3.469 \n",
            "iter   25 | diff: 0.03205 | V(start): 3.502 \n",
            "iter   26 | diff: 0.02884 | V(start): 3.530 \n",
            "iter   27 | diff: 0.02596 | V(start): 3.556 \n",
            "iter   28 | diff: 0.02336 | V(start): 3.580 \n",
            "iter   29 | diff: 0.02103 | V(start): 3.601 \n",
            "iter   30 | diff: 0.01892 | V(start): 3.620 \n",
            "iter   31 | diff: 0.01703 | V(start): 3.637 \n",
            "iter   32 | diff: 0.01533 | V(start): 3.652 \n",
            "iter   33 | diff: 0.01380 | V(start): 3.666 \n",
            "iter   34 | diff: 0.01242 | V(start): 3.678 \n",
            "iter   35 | diff: 0.01117 | V(start): 3.689 \n",
            "iter   36 | diff: 0.01006 | V(start): 3.699 \n",
            "iter   37 | diff: 0.00905 | V(start): 3.708 \n",
            "iter   38 | diff: 0.00815 | V(start): 3.717 \n",
            "iter   39 | diff: 0.00733 | V(start): 3.724 \n",
            "iter   40 | diff: 0.00660 | V(start): 3.731 \n",
            "iter   41 | diff: 0.00594 | V(start): 3.736 \n",
            "iter   42 | diff: 0.00534 | V(start): 3.742 \n",
            "iter   43 | diff: 0.00481 | V(start): 3.747 \n",
            "iter   44 | diff: 0.00433 | V(start): 3.751 \n",
            "iter   45 | diff: 0.00390 | V(start): 3.755 \n",
            "iter   46 | diff: 0.00351 | V(start): 3.758 \n",
            "iter   47 | diff: 0.00316 | V(start): 3.762 \n",
            "iter   48 | diff: 0.00284 | V(start): 3.764 \n",
            "iter   49 | diff: 0.00256 | V(start): 3.767 \n",
            "iter   50 | diff: 0.00230 | V(start): 3.769 \n",
            "iter   51 | diff: 0.00207 | V(start): 3.771 \n",
            "iter   52 | diff: 0.00186 | V(start): 3.773 \n",
            "iter   53 | diff: 0.00168 | V(start): 3.775 \n",
            "iter   54 | diff: 0.00151 | V(start): 3.776 \n",
            "iter   55 | diff: 0.00136 | V(start): 3.778 \n",
            "iter   56 | diff: 0.00122 | V(start): 3.779 \n",
            "iter   57 | diff: 0.00110 | V(start): 3.780 \n",
            "iter   58 | diff: 0.00099 | V(start): 3.781 \n",
            "Принято! Алгоритм сходится!\n"
          ]
        }
      ]
    },
    {
      "cell_type": "code",
      "source": [
        "print(\"Final state values:\", state_values)\n",
        "\n",
        "assert abs(state_values['s0'] - 3.781) < 0.01\n",
        "assert abs(state_values['s1'] - 7.294) < 0.01\n",
        "assert abs(state_values['s2'] - 4.202) < 0.01"
      ],
      "metadata": {
        "id": "ZKomkPSrZGlZ"
      },
      "execution_count": null,
      "outputs": []
    },
    {
      "cell_type": "markdown",
      "source": [
        "По найденным полезностям и зная модель переходов легко найти оптимальную стратегию:\n",
        "$$\\pi^*(s) = argmax_a \\sum_{s'} P(s' | s,a) \\cdot [ r(s,a,s') + \\gamma V_{i}(s')] = argmax_a Q_i(s,a)$$"
      ],
      "metadata": {
        "id": "6gz5JxncZJoX"
      }
    },
    {
      "cell_type": "markdown",
      "source": [
        "### 1 балл"
      ],
      "metadata": {
        "id": "ml9AWeYrkNgf"
      }
    },
    {
      "cell_type": "code",
      "source": [
        "def get_optimal_action(\n",
        "    mdp, state_values, state, gamma=0.9\n",
        "):\n",
        "    \"\"\" Находим оптимальное действие, используя формулу выше. \"\"\"\n",
        "    if mdp.is_terminal(state): return None\n",
        "    actions = mdp.get_possible_actions(state)\n",
        "    # выбираем лучшее действие\n",
        "    q_values = [get_action_value(mdp, state_values, state, action, gamma) for action in actions]\n",
        "    i = q_values.index(max(q_values))\n",
        "    return actions[i]"
      ],
      "metadata": {
        "id": "7gd4m26TZOn3"
      },
      "execution_count": 37,
      "outputs": []
    },
    {
      "cell_type": "code",
      "source": [
        "assert get_optimal_action(mdp, state_values, 's0', 0.9) == 'a1'\n",
        "assert get_optimal_action(mdp, state_values, 's1', 0.9) == 'a0'\n",
        "assert get_optimal_action(mdp, state_values, 's2', 0.9) == 'a1'\n",
        "\n",
        "assert get_optimal_action(mdp, {'s0': -1e10, 's1': 0, 's2': -2e10}, 's0', 0.9) == 'a0', \\\n",
        "    \"Убедитесь, что вы правильно обрабатываете отрицательные значения Q произвольной величины.\"\n",
        "assert get_optimal_action(mdp, {'s0': -2e10, 's1': 0, 's2': -1e10}, 's0', 0.9) == 'a1', \\\n",
        "    \"Убедитесь, что вы правильно обрабатываете отрицательные значения Q произвольной величины.\""
      ],
      "metadata": {
        "id": "yv3MRqaQZSzs"
      },
      "execution_count": 38,
      "outputs": []
    },
    {
      "cell_type": "code",
      "source": [
        "# Проверим среднее вознаграждение агента\n",
        "\n",
        "s = mdp.reset()\n",
        "rewards = []\n",
        "for _ in range(10000):\n",
        "    s, r, done, _ = mdp.step(get_optimal_action(mdp, state_values, s, 0.9))\n",
        "    rewards.append(r)\n",
        "\n",
        "print(\"average reward: \", np.mean(rewards))\n",
        "\n",
        "assert(0.40 < np.mean(rewards) < 0.55)"
      ],
      "metadata": {
        "id": "V1KMZyhbZVVX"
      },
      "execution_count": null,
      "outputs": []
    },
    {
      "cell_type": "markdown",
      "source": [
        "### Задание 2\n",
        "\n",
        "Теперь проверим работу итерации по ценностям на классической задаче FrozenLake."
      ],
      "metadata": {
        "id": "xkokwmulZYYn"
      }
    },
    {
      "cell_type": "code",
      "source": [
        "from mdp import FrozenLakeEnv\n",
        "mdp = FrozenLakeEnv(slip_chance=0)\n",
        "\n",
        "mdp.render()\n",
        "state_values = value_iteration(mdp)"
      ],
      "metadata": {
        "id": "E4V34IMzZbeH"
      },
      "execution_count": null,
      "outputs": []
    },
    {
      "cell_type": "markdown",
      "source": [
        "Визуализируем нашу стратегию."
      ],
      "metadata": {
        "id": "vNPtPQo2ZdpV"
      }
    },
    {
      "cell_type": "code",
      "source": [
        "def draw_policy(mdp, state_values, gamma=0.9):\n",
        "    \"\"\"функция визуализации стратегии\"\"\"\n",
        "    plt.figure(figsize=(3, 3))\n",
        "    h, w = mdp.desc.shape\n",
        "    states = sorted(mdp.get_all_states())\n",
        "    V = np.array([state_values[s] for s in states])\n",
        "    Pi = {\n",
        "        s: get_optimal_action(mdp, state_values, s, gamma)\n",
        "        for s in states\n",
        "    }\n",
        "    plt.imshow(\n",
        "        V.reshape(w, h),\n",
        "        cmap='gray', interpolation='none',\n",
        "        clim=(0, 1)\n",
        "    )\n",
        "    ax = plt.gca()\n",
        "    ax.set_xticks(np.arange(h) - .5)\n",
        "    ax.set_yticks(np.arange(w) - .5)\n",
        "    ax.set_xticklabels([])\n",
        "    ax.set_yticklabels([])\n",
        "    Y, X = np.mgrid[0:4, 0:4]\n",
        "    a2uv = {'left': (-1, 0), 'down': (0, -1),\n",
        "            'right': (1, 0), 'up': (-1, 0)}\n",
        "    for y in range(h):\n",
        "        for x in range(w):\n",
        "            plt.text(x, y, str(mdp.desc[y, x].item()),\n",
        "                     color='g', size=12,\n",
        "                     verticalalignment='center',\n",
        "                     horizontalalignment='center',\n",
        "                     fontweight='bold')\n",
        "            a = Pi[y, x]\n",
        "            if a is None: continue\n",
        "            u, v = a2uv[a]\n",
        "            plt.arrow(x, y, u * .3, -v * .3,\n",
        "                      color='m', head_width=0.1,\n",
        "                      head_length=0.1)\n",
        "    plt.grid(color='b', lw=2, ls='-')\n",
        "    plt.show()\n"
      ],
      "metadata": {
        "id": "aQP4HnjNZg4C"
      },
      "execution_count": null,
      "outputs": []
    },
    {
      "cell_type": "code",
      "source": [
        "from IPython.display import clear_output\n",
        "from time import sleep\n",
        "import matplotlib.pyplot as plt\n",
        "%matplotlib inline\n",
        "mdp = FrozenLakeEnv(map_name='8x8',slip_chance=0.1)\n",
        "state_values = {s : 0 for s in mdp.get_all_states()}\n",
        "\n",
        "for i in range(30):\n",
        "    clear_output(True)\n",
        "    print(\"after iteration %i\"%i)\n",
        "    state_values = value_iteration(mdp,\n",
        "                            state_values, num_iter=1)\n",
        "    draw_policy(mdp, state_values)\n",
        "    sleep(0.5)"
      ],
      "metadata": {
        "id": "UJ2zkkx2Zlec"
      },
      "execution_count": null,
      "outputs": []
    },
    {
      "cell_type": "markdown",
      "source": [
        "Посмотрим на оптимальную стратегию:"
      ],
      "metadata": {
        "id": "nltqOBDfZoFG"
      }
    },
    {
      "cell_type": "code",
      "source": [
        "s = mdp.reset()\n",
        "mdp.render()\n",
        "for t in range(100):\n",
        "    a = get_optimal_action(mdp, state_values, s, 0.9)\n",
        "    print(a, end='\\n\\n')\n",
        "    s, r, done, _ = mdp.step(a)\n",
        "    mdp.render()\n",
        "    if done:\n",
        "        break"
      ],
      "metadata": {
        "id": "CKJ1oJapZq77"
      },
      "execution_count": null,
      "outputs": []
    },
    {
      "cell_type": "markdown",
      "source": [
        "Тестируем на более сложном варианте окружения:"
      ],
      "metadata": {
        "id": "ksq-NonlZtHM"
      }
    },
    {
      "cell_type": "markdown",
      "source": [
        "### 1 балл"
      ],
      "metadata": {
        "id": "Z6g4fbKkkZza"
      }
    },
    {
      "cell_type": "code",
      "source": [
        "mdp = FrozenLakeEnv(slip_chance=0.2, map_name='8x8')\n",
        "state_values = value_iteration(mdp)\n",
        "total_rewards = []\n",
        "for game_i in range(1000):\n",
        "    s = mdp.reset()\n",
        "    rewards = []\n",
        "    for t in range(100):\n",
        "        # выполняем оптимальное действие в окружении\n",
        "        s, r, done, _ = mdp.step(get_optimal_action(mdp, state_values, s, 0.9))\n",
        "        rewards.append(r)\n",
        "        if done:\n",
        "            break\n",
        "    total_rewards.append(np.sum(rewards))\n",
        "print(\"Среднее вознаграждение:\", np.mean(total_rewards))\n",
        "assert(0.6 <= np.mean(total_rewards) <= 0.8)\n",
        "print(\"Принято!\")"
      ],
      "metadata": {
        "id": "yOBqWNBfZv6v",
        "outputId": "25282e0a-7e9d-4a4f-f427-4231e1290fbb",
        "colab": {
          "base_uri": "https://localhost:8080/"
        }
      },
      "execution_count": 39,
      "outputs": [
        {
          "output_type": "stream",
          "name": "stdout",
          "text": [
            "iter    0 | diff: 0.80000 | V(start): 0.000 \n",
            "iter    1 | diff: 0.57600 | V(start): 0.000 \n",
            "iter    2 | diff: 0.41472 | V(start): 0.000 \n",
            "iter    3 | diff: 0.29860 | V(start): 0.000 \n",
            "iter    4 | diff: 0.24186 | V(start): 0.000 \n",
            "iter    5 | diff: 0.19349 | V(start): 0.000 \n",
            "iter    6 | diff: 0.15325 | V(start): 0.000 \n",
            "iter    7 | diff: 0.12288 | V(start): 0.000 \n",
            "iter    8 | diff: 0.09930 | V(start): 0.000 \n",
            "iter    9 | diff: 0.08037 | V(start): 0.000 \n",
            "iter   10 | diff: 0.06426 | V(start): 0.000 \n",
            "iter   11 | diff: 0.05129 | V(start): 0.000 \n",
            "iter   12 | diff: 0.04330 | V(start): 0.000 \n",
            "iter   13 | diff: 0.03802 | V(start): 0.033 \n",
            "iter   14 | diff: 0.03332 | V(start): 0.058 \n",
            "iter   15 | diff: 0.02910 | V(start): 0.087 \n",
            "iter   16 | diff: 0.01855 | V(start): 0.106 \n",
            "iter   17 | diff: 0.01403 | V(start): 0.120 \n",
            "iter   18 | diff: 0.00810 | V(start): 0.128 \n",
            "iter   19 | diff: 0.00555 | V(start): 0.133 \n",
            "iter   20 | diff: 0.00321 | V(start): 0.137 \n",
            "iter   21 | diff: 0.00247 | V(start): 0.138 \n",
            "iter   22 | diff: 0.00147 | V(start): 0.139 \n",
            "iter   23 | diff: 0.00104 | V(start): 0.140 \n",
            "iter   24 | diff: 0.00058 | V(start): 0.140 \n",
            "iter   25 | diff: 0.00036 | V(start): 0.141 \n",
            "iter   26 | diff: 0.00024 | V(start): 0.141 \n",
            "iter   27 | diff: 0.00018 | V(start): 0.141 \n",
            "iter   28 | diff: 0.00012 | V(start): 0.141 \n",
            "iter   29 | diff: 0.00007 | V(start): 0.141 \n",
            "iter   30 | diff: 0.00004 | V(start): 0.141 \n",
            "iter   31 | diff: 0.00003 | V(start): 0.141 \n",
            "iter   32 | diff: 0.00001 | V(start): 0.141 \n",
            "iter   33 | diff: 0.00001 | V(start): 0.141 \n",
            "Принято! Алгоритм сходится!\n",
            "Среднее вознаграждение: 0.757\n",
            "Принято!\n"
          ]
        }
      ]
    },
    {
      "cell_type": "markdown",
      "source": [
        "### Задание 3\n",
        "\n",
        "Теперь рассмотрим алгоритм итерации по стратегиям (PI, policy iteration):\n",
        "\n",
        "---\n",
        "Initialize $\\pi_0$   `// случайно`\n",
        "\n",
        "For $n=0, 1, 2, \\dots$\n",
        "- Считаем функцию $V^{\\pi_{n}}$\n",
        "- Используя $V^{\\pi_{n}}$, считаем функцию $Q^{\\pi_{n}}$\n",
        "- Получаем новую стратегию: $\\pi_{n+1}(s) = \\operatorname*{argmax}_a Q^{\\pi_{n}}(s,a)$\n",
        "---\n",
        "\n",
        "PI включает в себя оценку полезности состояния, как внутренний шаг."
      ],
      "metadata": {
        "id": "sOEo-OheZyYP"
      }
    },
    {
      "cell_type": "markdown",
      "source": [
        "Вначале оценим полезности, используя текущую стратегию:\n",
        "$$V^{\\pi}(s) = \\sum_{s'} P(s,\\pi(s),s')[ R(s,\\pi(s),s') + \\gamma V^{\\pi}(s')]$$\n",
        "    Мы будем искать точное решение, хотя могли использовать и предыдущий итерационный подход. Для этого будем решать систему линейных уравнений относительно $V^{\\pi}(s_i)$ с помощью np.linalg.solve."
      ],
      "metadata": {
        "id": "Diaeh1f7Z010"
      }
    },
    {
      "cell_type": "markdown",
      "source": [
        "### 3 балла"
      ],
      "metadata": {
        "id": "3pFDjkE2kfsY"
      }
    },
    {
      "cell_type": "code",
      "source": [
        "from numpy.linalg import solve\n",
        "def compute_vpi(mdp, policy, gamma):\n",
        "    \"\"\"\n",
        "    Считем V^pi(s) для всех состояний, согласно стратегии.\n",
        "    :param policy: словарь состояние->действие {s : a}\n",
        "    :returns: словарь {state : V^pi(state)}\n",
        "    \"\"\"\n",
        "    states = mdp.get_all_states()\n",
        "    A, b = [], []\n",
        "    for i, state in enumerate(states):\n",
        "        if state in policy:\n",
        "            a = policy[state]\n",
        "            # формируем матрицу A (... A.append(...))\n",
        "            row = []\n",
        "            for j, next_state in enumerate(states):\n",
        "                if next_state == state:\n",
        "                    row.append(1 - gamma * mdp.get_transition_prob(state, a, next_state))\n",
        "                else:\n",
        "                    row.append(-gamma * mdp.get_transition_prob(state, a, next_state))\n",
        "            A.append(row)\n",
        "            # и вектор b (b.append(...))\n",
        "            b_val = sum([mdp.get_transition_prob(state, a, ns) * mdp.get_reward(state, a, ns)\n",
        "                         for ns in mdp.get_next_states(state, a)])\n",
        "            b.append(b_val)\n",
        "        else:\n",
        "            # формируем матрицу A (... A.append(...))\n",
        "            row = [0] * len(states)\n",
        "            row[i] = 1\n",
        "            A.append(row)\n",
        "            # вектор b (b.append(...))\n",
        "            b.append(0)\n",
        "    A = np.array(A)\n",
        "    b = np.array(b)\n",
        "    values = solve(A, b)\n",
        "    state_values = {\n",
        "        states[i] : values[i]\n",
        "        for i in range(len(states))\n",
        "    }\n",
        "    return state_values"
      ],
      "metadata": {
        "id": "-RpV4Yw8Z3bi"
      },
      "execution_count": 40,
      "outputs": []
    },
    {
      "cell_type": "code",
      "source": [
        "transition_probs = {\n",
        "    's0': {\n",
        "        'a0': {'s0': 0.5, 's2': 0.5},\n",
        "        'a1': {'s2': 1}\n",
        "    },\n",
        "    's1': {\n",
        "        'a0': {'s0': 0.7, 's1': 0.1, 's2': 0.2},\n",
        "        'a1': {'s1': 0.95, 's2': 0.05}\n",
        "    },\n",
        "    's2': {\n",
        "        'a0': {'s0': 0.4, 's1': 0.6},\n",
        "        'a1': {'s0': 0.3, 's1': 0.3, 's2': 0.4}\n",
        "    }\n",
        "}\n",
        "rewards = {\n",
        "    's1': {'a0': {'s0': +5}},\n",
        "    's2': {'a1': {'s0': -1}}\n",
        "}\n",
        "mdp = MDP(transition_probs, rewards, initial_state='s0')\n",
        "\n",
        "gamma = 0.9\n",
        "\n",
        "test_policy = {\n",
        "    s: np.random.choice(mdp.get_possible_actions(s))\n",
        "    for s in mdp.get_all_states()}\n",
        "new_vpi = compute_vpi(mdp, test_policy, gamma)\n",
        "\n",
        "print(new_vpi)\n",
        "assert type(new_vpi) is dict, \\\n",
        "    \"функция compute_vpi должна возвращать словарь \\\n",
        "    {состояние s : V^pi(s) }\""
      ],
      "metadata": {
        "id": "qeb79E20Z6d7"
      },
      "execution_count": null,
      "outputs": []
    },
    {
      "cell_type": "markdown",
      "source": [
        "Теперь обновляем стратегию на основе новых значений полезностей:"
      ],
      "metadata": {
        "id": "Du2YNXpxZ9BT"
      }
    },
    {
      "cell_type": "markdown",
      "source": [
        "### 1 балл"
      ],
      "metadata": {
        "id": "WsYlHPblkrSI"
      }
    },
    {
      "cell_type": "code",
      "source": [
        "def compute_new_policy(mdp, vpi, gamma):\n",
        "    \"\"\"\n",
        "    Рассчитываем новую стратегию\n",
        "    :param vpi: словарь {state : V^pi(state) }\n",
        "    :returns: словарь {state : оптимальное действие}\n",
        "    \"\"\"\n",
        "    Q = {}\n",
        "    for state in mdp.get_all_states():\n",
        "        Q[state] = {}\n",
        "        for a in mdp.get_possible_actions(state):\n",
        "            values = []\n",
        "            for next_state in mdp.get_next_states(state, a):\n",
        "                r = mdp.get_reward(state, a, next_state)\n",
        "                p = mdp.get_transition_prob(\n",
        "                    state, a, next_state\n",
        "                )\n",
        "                values.append(p * (r + gamma * vpi[next_state]))\n",
        "            Q[state][a] = sum(values)\n",
        "    policy = {}\n",
        "    for state in mdp.get_all_states():\n",
        "        actions = mdp.get_possible_actions(state)\n",
        "        if actions:\n",
        "            # выбираем оптимальное действие в state\n",
        "            policy[state] = max(Q[state], key=Q[state].get)\n",
        "    return policy"
      ],
      "metadata": {
        "id": "TGCHMeaUZ_Qj"
      },
      "execution_count": 41,
      "outputs": []
    },
    {
      "cell_type": "code",
      "source": [
        "new_policy = compute_new_policy(mdp, new_vpi, gamma)\n",
        "\n",
        "print(new_policy)\n",
        "\n",
        "assert type(new_policy) is dict, \\\n",
        "\"функция compute_new_policy должна возвращать словарь \\\n",
        "{состояние s: оптимальное действие}\""
      ],
      "metadata": {
        "id": "1b1OXlg9aBsy"
      },
      "execution_count": null,
      "outputs": []
    },
    {
      "cell_type": "markdown",
      "source": [
        "Собираем все в единый цикл:"
      ],
      "metadata": {
        "id": "15mJglOZaEmI"
      }
    },
    {
      "cell_type": "markdown",
      "source": [
        "### 1 балл"
      ],
      "metadata": {
        "id": "cIrgcIqKkxD2"
      }
    },
    {
      "cell_type": "code",
      "source": [
        "def policy_iteration(\n",
        "    mdp, policy=None, gamma = 0.9,\n",
        "    num_iter = 1000, min_difference = 1e-5):\n",
        "    \"\"\"\n",
        "    Запускаем цикл итерации по стратегиям\n",
        "    Если стратегия не определена, задаем случайную\n",
        "    \"\"\"\n",
        "    for i in range(num_iter):\n",
        "        if not policy:\n",
        "            policy = {}\n",
        "            for s in mdp.get_all_states():\n",
        "                if mdp.get_possible_actions(s):\n",
        "                    policy[s] = (\n",
        "                        np.random.choice(mdp.get_possible_actions(s))\n",
        "                    )\n",
        "        state_values = compute_vpi(mdp, policy, gamma)\n",
        "        policy = compute_new_policy(mdp, state_values, gamma)\n",
        "    return state_values, policy"
      ],
      "metadata": {
        "id": "2LcLHHhIaHAZ"
      },
      "execution_count": 42,
      "outputs": []
    },
    {
      "cell_type": "markdown",
      "source": [
        "Тестируем на FrozenLake."
      ],
      "metadata": {
        "id": "ddfLTSfgaJjU"
      }
    },
    {
      "cell_type": "code",
      "source": [
        "mdp = FrozenLakeEnv(slip_chance=0.1)\n",
        "state_values, policy = policy_iteration(mdp)\n",
        "\n",
        "total_rewards = []\n",
        "for game_i in range(1000):\n",
        "    s = mdp.reset()\n",
        "    rewards = []\n",
        "    for t in range(100):\n",
        "        s, r, done, _ = mdp.step(policy[s])\n",
        "        rewards.append(r)\n",
        "        if done:\n",
        "            break\n",
        "    total_rewards.append(np.sum(rewards))\n",
        "\n",
        "print(\"average reward: \", np.mean(total_rewards))\n",
        "assert(0.8 <= np.mean(total_rewards) <= 0.95)\n",
        "print(\"Принято!\")"
      ],
      "metadata": {
        "id": "4hLv3X0OaKmg",
        "outputId": "b80d8c98-55d9-4a06-d2bc-187b76992ad3",
        "colab": {
          "base_uri": "https://localhost:8080/"
        }
      },
      "execution_count": 43,
      "outputs": [
        {
          "output_type": "stream",
          "name": "stdout",
          "text": [
            "average reward:  0.893\n",
            "Принято!\n"
          ]
        }
      ]
    }
  ]
}